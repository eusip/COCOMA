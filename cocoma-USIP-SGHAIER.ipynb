{
 "cells": [
  {
   "cell_type": "markdown",
   "metadata": {},
   "source": [
    "### Comparaison de protocoles d'allocations avec Single-Peaked preferences"
   ]
  },
  {
   "cell_type": "markdown",
   "metadata": {},
   "source": [
    "Petites notes avant de commencer :\n",
    "1. Le code a été écrit pour <font color=green>Python 3.6</font> et ne fonctionnera pas avec <font color=red>Python 2.7</font> ;\n",
    "1. Les modules suivants sont nécessaires au fonction de ce Notebook :\n",
    "    1. numpy ;\n",
    "    1. matplotlib."
   ]
  },
  {
   "cell_type": "code",
   "execution_count": 17,
   "metadata": {},
   "outputs": [],
   "source": [
    "from problem import Problem\n",
    "import protocols as pt\n",
    "import fairnessMeasures as fm\n"
   ]
  },
  {
   "cell_type": "markdown",
   "metadata": {},
   "source": [
    "On définit le problème suivant : 2 Agents et N ressources avec leurs utilités avec les Borda preferences,\n"
   ]
  },
  {
   "cell_type": "markdown",
   "metadata": {},
   "source": [
    "PS : N peut être choisi arbitrairement."
   ]
  },
  {
   "cell_type": "code",
   "execution_count": 18,
   "metadata": {},
   "outputs": [
    {
     "name": "stdout",
     "output_type": "stream",
     "text": [
      "agent 0{'r0': 3, 'r1': 7, 'r2': 10, 'r3': 6, 'r4': 8, 'r5': 1, 'r6': 4, 'r7': 11, 'r8': 9, 'r9': 2, 'r10': 5, 'r11': 12}\n",
      "agent 1{'r5': 2, 'r9': 3, 'r0': 5, 'r6': 7, 'r10': 6, 'r3': 9, 'r1': 12, 'r4': 11, 'r8': 8, 'r2': 10, 'r7': 4, 'r11': 1}\n",
      "agent 2{'r11': 7, 'r5': 4, 'r9': 2, 'r7': 10, 'r0': 8, 'r10': 6, 'r6': 9, 'r8': 11, 'r3': 3, 'r2': 1, 'r4': 12, 'r1': 5}\n",
      "\n"
     ]
    }
   ],
   "source": [
    "p1 = Problem(3,12,'borda',centralized=True)\n",
    "print(p1)\n"
   ]
  },
  {
   "cell_type": "markdown",
   "metadata": {},
   "source": [
    "On affiche l'allocation permet de voir quel agent détient quelle ressource et l'utilitaire actuel de chaque agent."
   ]
  },
  {
   "cell_type": "code",
   "execution_count": 19,
   "metadata": {},
   "outputs": [
    {
     "name": "stdout",
     "output_type": "stream",
     "text": [
      "=-=-=-=-=-=-=-=-=-=-=-=-=-=-=-=-=-=-=-=-=-=-=-=-=-=\n",
      "agent  0['r0', 'r1', 'r2', 'r3', 'r4', 'r5', 'r6', 'r7', 'r8', 'r9', 'r10', 'r11']\t78\n",
      "agent  1                                 []\t 0\n",
      "agent  2                                 []\t 0\n",
      "\n"
     ]
    }
   ],
   "source": [
    "print(p1.printAllocation())"
   ]
  },
  {
   "cell_type": "markdown",
   "metadata": {},
   "source": [
    "## 1. Original Sequence Algorithm"
   ]
  },
  {
   "cell_type": "code",
   "execution_count": 20,
   "metadata": {},
   "outputs": [
    {
     "name": "stdout",
     "output_type": "stream",
     "text": [
      "l: 1\n",
      "Unallocated:  ['r0', 'r1', 'r2', 'r3', 'r4', 'r5', 'r6', 'r7', 'r8', 'r9', 'r10', 'r11']\n",
      "Agent 1 item preference for this round:  ['r11'] Agent 2 item preference for this round:  ['r2']\n",
      "Item r11 has been allocated to Agent 1. Item r2 has been allocated to Agent 2.\n",
      "The allocation for round 1 is as follows: Unallocated:  ['r0', 'r1', 'r3', 'r4', 'r5', 'r6', 'r7', 'r8', 'r9', 'r10'] Agent 1:  ['r11'] Agent 2:  ['r2']\n",
      "l: 2\n",
      "Unallocated:  ['r0', 'r1', 'r3', 'r4', 'r5', 'r6', 'r7', 'r8', 'r9', 'r10']\n",
      "Agent 1 item preference for this round:  ['r5'] Agent 2 item preference for this round:  ['r9']\n",
      "Item r5 has been allocated to Agent 1. Item r9 has been allocated to Agent 2.\n",
      "The allocation for round 2 is as follows: Unallocated:  ['r0', 'r1', 'r3', 'r4', 'r6', 'r7', 'r8', 'r10'] Agent 1:  ['r11', 'r5'] Agent 2:  ['r2', 'r9']\n",
      "l: 3\n",
      "Unallocated:  ['r0', 'r1', 'r3', 'r4', 'r6', 'r7', 'r8', 'r10']\n",
      "Agent 1 item preference for this round:  [] Agent 2 item preference for this round:  ['r3']\n",
      "The allocation for round 3 is as follows: Unallocated:  ['r0', 'r1', 'r3', 'r4', 'r6', 'r7', 'r8', 'r10'] Agent 1:  ['r11', 'r5'] Agent 2:  ['r2', 'r9']\n",
      "l: 4\n",
      "Unallocated:  ['r0', 'r1', 'r3', 'r4', 'r6', 'r7', 'r8', 'r10']\n",
      "Agent 1 item preference for this round:  ['r7'] Agent 2 item preference for this round:  ['r3']\n",
      "Item r7 has been allocated to Agent 1. Item r3 has been allocated to Agent 2.\n",
      "The allocation for round 4 is as follows: Unallocated:  ['r0', 'r1', 'r4', 'r6', 'r8', 'r10'] Agent 1:  ['r11', 'r5', 'r7'] Agent 2:  ['r2', 'r9', 'r3']\n",
      "l: 5\n",
      "Unallocated:  ['r0', 'r1', 'r4', 'r6', 'r8', 'r10']\n",
      "Agent 1 item preference for this round:  ['r0'] Agent 2 item preference for this round:  ['r1']\n",
      "Item r0 has been allocated to Agent 1. Item r1 has been allocated to Agent 2.\n",
      "The allocation for round 5 is as follows: Unallocated:  ['r4', 'r6', 'r8', 'r10'] Agent 1:  ['r11', 'r5', 'r7', 'r0'] Agent 2:  ['r2', 'r9', 'r3', 'r1']\n",
      "l: 6\n",
      "Unallocated:  ['r4', 'r6', 'r8', 'r10']\n",
      "Agent 1 item preference for this round:  ['r10'] Agent 2 item preference for this round:  ['r10']\n",
      "No allocation has been found. Recalculating l.\n",
      "The allocation for round 6 is as follows: Unallocated:  ['r4', 'r6', 'r8', 'r10'] Agent 1:  ['r11', 'r5', 'r7', 'r0'] Agent 2:  ['r2', 'r9', 'r3', 'r1']\n",
      "l: 7\n",
      "Unallocated:  ['r4', 'r6', 'r8', 'r10']\n",
      "Agent 1 item preference for this round:  ['r10', 'r6'] Agent 2 item preference for this round:  ['r10']\n",
      "No allocation has been found. Recalculating l.\n",
      "Item r6 has been allocated to Agent 1. Item r10 has been allocated to Agent 2.\n",
      "The allocation for round 7 is as follows: Unallocated:  ['r4', 'r8'] Agent 1:  ['r11', 'r5', 'r7', 'r0', 'r6'] Agent 2:  ['r2', 'r9', 'r3', 'r1', 'r10']\n",
      "l: 8\n",
      "Unallocated:  ['r4', 'r8']\n",
      "Agent 1 item preference for this round:  ['r8'] Agent 2 item preference for this round:  []\n",
      "No allocation has been found. Recalculating l.\n",
      "The allocation for round 8 is as follows: Unallocated:  ['r4', 'r8'] Agent 1:  ['r11', 'r5', 'r7', 'r0', 'r6'] Agent 2:  ['r2', 'r9', 'r3', 'r1', 'r10']\n",
      "l: 9\n",
      "Unallocated:  ['r4', 'r8']\n",
      "Agent 1 item preference for this round:  ['r8'] Agent 2 item preference for this round:  []\n",
      "No allocation has been found. Recalculating l.\n",
      "The allocation for round 9 is as follows: Unallocated:  ['r4', 'r8'] Agent 1:  ['r11', 'r5', 'r7', 'r0', 'r6'] Agent 2:  ['r2', 'r9', 'r3', 'r1', 'r10']\n",
      "l: 10\n",
      "Unallocated:  ['r4', 'r8']\n",
      "Agent 1 item preference for this round:  ['r8'] Agent 2 item preference for this round:  []\n",
      "No allocation has been found. Recalculating l.\n",
      "The allocation for round 10 is as follows: Unallocated:  ['r4', 'r8'] Agent 1:  ['r11', 'r5', 'r7', 'r0', 'r6'] Agent 2:  ['r2', 'r9', 'r3', 'r1', 'r10']\n",
      "l: 11\n",
      "Unallocated:  ['r4', 'r8']\n",
      "Agent 1 item preference for this round:  ['r8', 'r4'] Agent 2 item preference for this round:  ['r8']\n",
      "No allocation has been found. Recalculating l.\n",
      "Item r4 has been allocated to Agent 1. Item r8 has been allocated to Agent 2.\n",
      "The allocation for round 11 is as follows: Unallocated:  [] Agent 1:  ['r11', 'r5', 'r7', 'r0', 'r6', 'r4'] Agent 2:  ['r2', 'r9', 'r3', 'r1', 'r10', 'r8']\n",
      "The final allocation is as follows: Unallocated:  [] Agent 1:  ['r11', 'r5', 'r7', 'r0', 'r6', 'r4'] Agent 2:  ['r2', 'r9', 'r3', 'r1', 'r10', 'r8']\n",
      "\n",
      "   single-Peaked for agent 1\n",
      "m1 has the position 0 in the list of alternatives. m2 has the position 1 in the list of alternatives.\n",
      "The most preferred item is:  r11\n",
      "position of peak = 0 and its utility = 1\n",
      "*** ressources single peaked =  ['r11', 'r5', 'r7', 'r0', 'r6', 'r4']\n",
      "\n",
      "   single-Peaked for agent 2 \n",
      "m1 has the position 0 in the list of alternatives. m2 has the position 1 in the list of alternatives.\n",
      "The most preferred item is:  r2\n",
      "position of peak = 0 and its utility = 1\n",
      "*** ressources single peaked =  ['r2', 'r9', 'r3', 'r1', 'r10', 'r8']\n",
      "Execution time:  0.006302833557128906\n"
     ]
    }
   ],
   "source": [
    "sa = pt.originalSA(p1)\n",
    "\n"
   ]
  },
  {
   "cell_type": "code",
   "execution_count": 21,
   "metadata": {},
   "outputs": [
    {
     "name": "stdout",
     "output_type": "stream",
     "text": [
      "=-=-=-=-=-=-=-=-=-=-=-=-=-=-=-=-=-=-=-=-=-=-=-=-=-=\n",
      "agent  0                                 []\t 0\n",
      "agent  1['r11', 'r5', 'r7', 'r0', 'r6', 'r4']\t30\n",
      "agent  2['r2', 'r9', 'r3', 'r1', 'r10', 'r8']\t28\n",
      "\n",
      " ************* fin de original sequence ***************\n"
     ]
    }
   ],
   "source": [
    "print(p1.printAllocation())\n",
    "print(\" ************* fin de original sequence ***************\")"
   ]
  },
  {
   "cell_type": "markdown",
   "metadata": {},
   "source": [
    "## 2. Restricted Sequence Algorithm"
   ]
  },
  {
   "cell_type": "code",
   "execution_count": 22,
   "metadata": {},
   "outputs": [
    {
     "name": "stdout",
     "output_type": "stream",
     "text": [
      "The final allocation is as follows: Unallocated:  [] Agent 1:  ['r11', 'r5', 'r7', 'r0', 'r6', 'r4'] Agent 2:  ['r2', 'r9', 'r3', 'r1', 'r10', 'r8']\n",
      "\n",
      "   single-Peaked for agent 1\n",
      "m1 has the position 0 in the list of alternatives. m2 has the position 1 in the list of alternatives.\n",
      "The most preferred item is:  r11\n",
      "position of peak = 0 and its utility = 1\n",
      "*** ressources single peaked =  ['r11', 'r5', 'r7', 'r0', 'r6', 'r4']\n",
      "\n",
      "   single-Peaked for agent 2 \n",
      "m1 has the position 0 in the list of alternatives. m2 has the position 1 in the list of alternatives.\n",
      "The most preferred item is:  r2\n",
      "position of peak = 0 and its utility = 1\n",
      "*** ressources single peaked =  ['r2', 'r9', 'r3', 'r1', 'r10', 'r8']\n",
      "Execution time:  0.0017940998077392578\n"
     ]
    }
   ],
   "source": [
    "sa = pt.restrictedSA(p1)\n",
    "\n"
   ]
  },
  {
   "cell_type": "code",
   "execution_count": 23,
   "metadata": {},
   "outputs": [
    {
     "name": "stdout",
     "output_type": "stream",
     "text": [
      "=-=-=-=-=-=-=-=-=-=-=-=-=-=-=-=-=-=-=-=-=-=-=-=-=-=\n",
      "agent  0                                 []\t 0\n",
      "agent  1['r11', 'r5', 'r7', 'r0', 'r6', 'r4']\t30\n",
      "agent  2['r2', 'r9', 'r3', 'r1', 'r10', 'r8']\t28\n",
      "\n",
      " ************* fin de Restricted sequence ***************\n"
     ]
    }
   ],
   "source": [
    "print(p1.printAllocation())\n",
    "print(\" ************* fin de Restricted sequence ***************\")"
   ]
  },
  {
   "cell_type": "markdown",
   "metadata": {},
   "source": [
    "## 3. Singles-Doubles Algorithm"
   ]
  },
  {
   "cell_type": "code",
   "execution_count": 24,
   "metadata": {},
   "outputs": [
    {
     "name": "stdout",
     "output_type": "stream",
     "text": [
      "The final allocation is as follows: Unallocated:  [] Agent 1:  ['r11', 'r5', 'r7', 'r0', 'r6', 'r4'] Agent 2:  ['r2', 'r9', 'r3', 'r1', 'r10', 'r8']\n",
      "\n",
      "   single-Peaked for agent 1\n",
      "m1 has the position 0 in the list of alternatives. m2 has the position 1 in the list of alternatives.\n",
      "The most preferred item is:  r11\n",
      "position of peak = 0 and its utility = 1\n",
      "*** ressources single peaked =  ['r11', 'r5', 'r7', 'r0', 'r6', 'r4']\n",
      "\n",
      "   single-Peaked for agent 2 \n",
      "m1 has the position 0 in the list of alternatives. m2 has the position 1 in the list of alternatives.\n",
      "The most preferred item is:  r2\n",
      "position of peak = 0 and its utility = 1\n",
      "*** ressources single peaked =  ['r2', 'r9', 'r3', 'r1', 'r10', 'r8']\n",
      "This is an envy-free full allocation of items.\n",
      "Execution time:  0.001055002212524414\n"
     ]
    }
   ],
   "source": [
    "pt.singlesdoubles(p1)\n",
    "\n"
   ]
  },
  {
   "cell_type": "code",
   "execution_count": 25,
   "metadata": {},
   "outputs": [
    {
     "name": "stdout",
     "output_type": "stream",
     "text": [
      "=-=-=-=-=-=-=-=-=-=-=-=-=-=-=-=-=-=-=-=-=-=-=-=-=-=\n",
      "agent  0                                 []\t 0\n",
      "agent  1['r11', 'r5', 'r7', 'r0', 'r6', 'r4']\t30\n",
      "agent  2['r2', 'r9', 'r3', 'r1', 'r10', 'r8']\t28\n",
      "\n",
      " ************* fin de Singles-Doubles ***************\n"
     ]
    }
   ],
   "source": [
    "print(p1.printAllocation())\n",
    "print(\" ************* fin de Singles-Doubles ***************\")"
   ]
  },
  {
   "cell_type": "markdown",
   "metadata": {},
   "source": [
    "## 4. Iterated Singles-Doubles Algorithm"
   ]
  },
  {
   "cell_type": "code",
   "execution_count": 26,
   "metadata": {},
   "outputs": [
    {
     "name": "stdout",
     "output_type": "stream",
     "text": [
      "The final allocation is as follows: Unallocated:  [] Agent 1:  ['r11', 'r5', 'r7', 'r0', 'r6', 'r4'] Agent 2:  ['r2', 'r9', 'r3', 'r1', 'r10', 'r8']\n",
      "\n",
      "   single-Peaked for agent 1\n",
      "m1 has the position 0 in the list of alternatives. m2 has the position 1 in the list of alternatives.\n",
      "The most preferred item is:  r11\n",
      "position of peak = 0 and its utility = 1\n",
      "*** ressources single peaked =  ['r11', 'r5', 'r7', 'r0', 'r6', 'r4']\n",
      "\n",
      "   single-Peaked for agent 2 \n",
      "m1 has the position 0 in the list of alternatives. m2 has the position 1 in the list of alternatives.\n",
      "The most preferred item is:  r2\n",
      "position of peak = 0 and its utility = 1\n",
      "*** ressources single peaked =  ['r2', 'r9', 'r3', 'r1', 'r10', 'r8']\n",
      "This is an envy-free full allocation of items.\n",
      "Execution time:  0.0014028549194335938\n"
     ]
    }
   ],
   "source": [
    "pt.itersinglesdoubles(p1)\n"
   ]
  },
  {
   "cell_type": "code",
   "execution_count": 27,
   "metadata": {},
   "outputs": [
    {
     "name": "stdout",
     "output_type": "stream",
     "text": [
      "=-=-=-=-=-=-=-=-=-=-=-=-=-=-=-=-=-=-=-=-=-=-=-=-=-=\n",
      "agent  0                                 []\t 0\n",
      "agent  1['r11', 'r5', 'r7', 'r0', 'r6', 'r4']\t30\n",
      "agent  2['r2', 'r9', 'r3', 'r1', 'r10', 'r8']\t28\n",
      "\n",
      " ************* fin de Iterated Singles Doubles ***************\n"
     ]
    }
   ],
   "source": [
    "print(p1.printAllocation())\n",
    "print(\" ************* fin de Iterated Singles Doubles ***************\")"
   ]
  },
  {
   "cell_type": "code",
   "execution_count": null,
   "metadata": {},
   "outputs": [],
   "source": []
  }
 ],
 "metadata": {
  "kernelspec": {
   "display_name": "Python 3",
   "language": "python",
   "name": "python3"
  },
  "language_info": {
   "codemirror_mode": {
    "name": "ipython",
    "version": 3
   },
   "file_extension": ".py",
   "mimetype": "text/x-python",
   "name": "python",
   "nbconvert_exporter": "python",
   "pygments_lexer": "ipython3",
   "version": "3.7.1"
  }
 },
 "nbformat": 4,
 "nbformat_minor": 2
}
